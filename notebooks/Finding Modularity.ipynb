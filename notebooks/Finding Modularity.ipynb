{
 "cells": [
  {
   "cell_type": "code",
   "execution_count": null,
   "metadata": {},
   "outputs": [],
   "source": [
    "#### Dependencies ####\n",
    "import numpy as np\n",
    "import logging\n",
    "import os\n",
    "import sys\n",
    "import time\n",
    "import joblib\n",
    "import matplotlib.pyplot as plt\n",
    "import torch\n",
    "import json\n",
    "import cortex # This dependency is pycortex, which enables the plotting of flatmaps. It can be disabled.\n",
    "from cvxopt import matrix, solvers # Only necessary for the stacked model.\n",
    "from transformers import AutoTokenizer, AutoModelForCausalLM # Only necessary for feature extraction.\n",
    "import subprocess\n",
    "from tqdm.autonotebook import tqdm, trange\n",
    "\n",
    "# Repository imports\n",
    "from ridge_utils.ridge import bootstrap_ridge\n",
    "import ridge_utils.npp\n",
    "from ridge_utils.util import make_delayed\n",
    "from ridge_utils.dsutils import make_word_ds\n",
    "from ridge_utils.DataSequence import DataSequence\n",
    "from ridge_utils.tokenization_helpers import generate_efficient_feat_dicts_opt\n",
    "from ridge_utils.tokenization_helpers import convert_to_feature_mats_opt\n",
    "\n",
    "# Topic model imports\n",
    "from bertopic import BERTopic\n",
    "from sentence_transformers import SentenceTransformer # For generating embeddings\n",
    "from sklearn.decomposition import PCA # To speed up the UMAP\n",
    "from sklearn.feature_extraction.text import CountVectorizer \n",
    "from bertopic.vectorizers import ClassTfidfTransformer\n",
    "import en_core_web_sm\n",
    "from bertopic.representation import PartOfSpeech, KeyBERTInspired, MaximalMarginalRelevance"
   ]
  }
 ],
 "metadata": {
  "language_info": {
   "name": "python"
  }
 },
 "nbformat": 4,
 "nbformat_minor": 2
}
